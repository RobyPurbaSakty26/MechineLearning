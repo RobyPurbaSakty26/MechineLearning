{
 "cells": [
  {
   "cell_type": "code",
   "execution_count": 12,
   "metadata": {},
   "outputs": [
    {
     "name": "stdout",
     "output_type": "stream",
     "text": [
      "2.9.1\n"
     ]
    }
   ],
   "source": [
    "import tensorflow as tf\n",
    "print(tf.__version__)"
   ]
  },
  {
   "cell_type": "code",
   "execution_count": 13,
   "metadata": {},
   "outputs": [
    {
     "name": "stdout",
     "output_type": "stream",
     "text": [
      "--2022-06-11 09:18:52--  https://dicoding-academy-assets.sgp1.cdn.digitaloceanspaces.com/184/messy-vs-clean-room.zip\n",
      "Resolving dicoding-academy-assets.sgp1.cdn.digitaloceanspaces.com (dicoding-academy-assets.sgp1.cdn.digitaloceanspaces.com)... 205.185.216.42, 205.185.216.10\n",
      "Connecting to dicoding-academy-assets.sgp1.cdn.digitaloceanspaces.com (dicoding-academy-assets.sgp1.cdn.digitaloceanspaces.com)|205.185.216.42|:443... connected.\n",
      "HTTP request sent, awaiting response... 200 OK\n",
      "Length: 70392746 (67M) [application/zip]\n",
      "Saving to: ‘/tmp/messy_vs_clean_room.zip’\n",
      "\n",
      "/tmp/messy_vs_clean 100%[===================>]  67,13M  3,05MB/s    in 19s     \n",
      "\n",
      "2022-06-11 09:19:13 (3,55 MB/s) - ‘/tmp/messy_vs_clean_room.zip’ saved [70392746/70392746]\n",
      "\n"
     ]
    }
   ],
   "source": [
    "!wget --no-check-certificate \\\n",
    "  https://dicoding-academy-assets.sgp1.cdn.digitaloceanspaces.com/184/messy-vs-clean-room.zip \\\n",
    "  -O /tmp/messy_vs_clean_room.zip"
   ]
  },
  {
   "cell_type": "code",
   "execution_count": 14,
   "metadata": {},
   "outputs": [],
   "source": [
    "import zipfile,os\n",
    "local_zip = '/tmp/messy_vs_clean_room.zip'\n",
    "zip_ref = zipfile.ZipFile(local_zip, 'r')\n",
    "zip_ref.extractall('/tmp')\n",
    "zip_ref.close()\n",
    " \n",
    "base_dir = '/tmp/images'\n",
    "train_dir = os.path.join(base_dir, 'train')\n",
    "validation_dir = os.path.join(base_dir, 'val')"
   ]
  },
  {
   "cell_type": "code",
   "execution_count": 15,
   "metadata": {},
   "outputs": [],
   "source": [
    "from tensorflow.keras.preprocessing.image import ImageDataGenerator\n",
    " \n",
    "train_datagen = ImageDataGenerator(\n",
    "                    rescale=1./255,\n",
    "                    rotation_range=20,\n",
    "                    horizontal_flip=True,\n",
    "                    shear_range = 0.2,\n",
    "                    fill_mode = 'nearest')\n",
    " \n",
    "test_datagen = ImageDataGenerator(\n",
    "                    rescale=1./255)"
   ]
  },
  {
   "cell_type": "code",
   "execution_count": 16,
   "metadata": {},
   "outputs": [
    {
     "name": "stdout",
     "output_type": "stream",
     "text": [
      "Found 192 images belonging to 2 classes.\n",
      "Found 20 images belonging to 2 classes.\n"
     ]
    }
   ],
   "source": [
    "train_generator = train_datagen.flow_from_directory(\n",
    "        train_dir,  # direktori data latih\n",
    "        target_size=(150, 150),  # mengubah resolusi seluruh gambar menjadi 150x150 piksel\n",
    "        batch_size=4,\n",
    "        # karena ini merupakan masalah klasifikasi 2 kelas, gunakan class_mode = 'binary'\n",
    "        class_mode='binary')\n",
    " \n",
    "validation_generator = test_datagen.flow_from_directory(\n",
    "        validation_dir, # direktori data validasi\n",
    "        target_size=(150, 150), # mengubah resolusi seluruh gambar menjadi 150x150 piksel\n",
    "        batch_size=4, # karena ini merupakan masalah klasifikasi 2 kelas gunakan class_mode = 'binary'\n",
    "        class_mode='binary')"
   ]
  },
  {
   "cell_type": "code",
   "execution_count": 17,
   "metadata": {},
   "outputs": [],
   "source": [
    "model = tf.keras.models.Sequential([\n",
    "    tf.keras.layers.Conv2D(32, (3,3), activation='relu', input_shape=(150, 150, 3)),\n",
    "    tf.keras.layers.MaxPooling2D(2, 2),\n",
    "    tf.keras.layers.Conv2D(64, (3,3), activation='relu'),\n",
    "    tf.keras.layers.MaxPooling2D(2,2),\n",
    "    tf.keras.layers.Conv2D(128, (3,3), activation='relu'),\n",
    "    tf.keras.layers.MaxPooling2D(2,2),\n",
    "    tf.keras.layers.Conv2D(128, (3,3), activation='relu'),\n",
    "    tf.keras.layers.MaxPooling2D(2,2),\n",
    "    tf.keras.layers.Flatten(),\n",
    "    tf.keras.layers.Dense(512, activation='relu'),\n",
    "    tf.keras.layers.Dense(1, activation='sigmoid')\n",
    "])"
   ]
  },
  {
   "cell_type": "code",
   "execution_count": 18,
   "metadata": {},
   "outputs": [
    {
     "name": "stdout",
     "output_type": "stream",
     "text": [
      "Model: \"sequential_1\"\n",
      "_________________________________________________________________\n",
      " Layer (type)                Output Shape              Param #   \n",
      "=================================================================\n",
      " conv2d_4 (Conv2D)           (None, 148, 148, 32)      896       \n",
      "                                                                 \n",
      " max_pooling2d_4 (MaxPooling  (None, 74, 74, 32)       0         \n",
      " 2D)                                                             \n",
      "                                                                 \n",
      " conv2d_5 (Conv2D)           (None, 72, 72, 64)        18496     \n",
      "                                                                 \n",
      " max_pooling2d_5 (MaxPooling  (None, 36, 36, 64)       0         \n",
      " 2D)                                                             \n",
      "                                                                 \n",
      " conv2d_6 (Conv2D)           (None, 34, 34, 128)       73856     \n",
      "                                                                 \n",
      " max_pooling2d_6 (MaxPooling  (None, 17, 17, 128)      0         \n",
      " 2D)                                                             \n",
      "                                                                 \n",
      " conv2d_7 (Conv2D)           (None, 15, 15, 128)       147584    \n",
      "                                                                 \n",
      " max_pooling2d_7 (MaxPooling  (None, 7, 7, 128)        0         \n",
      " 2D)                                                             \n",
      "                                                                 \n",
      " flatten_1 (Flatten)         (None, 6272)              0         \n",
      "                                                                 \n",
      " dense_2 (Dense)             (None, 512)               3211776   \n",
      "                                                                 \n",
      " dense_3 (Dense)             (None, 1)                 513       \n",
      "                                                                 \n",
      "=================================================================\n",
      "Total params: 3,453,121\n",
      "Trainable params: 3,453,121\n",
      "Non-trainable params: 0\n",
      "_________________________________________________________________\n"
     ]
    }
   ],
   "source": [
    "model.summary()"
   ]
  },
  {
   "cell_type": "code",
   "execution_count": 19,
   "metadata": {},
   "outputs": [],
   "source": [
    "# compile model dengan 'adam' optimizer loss function 'binary_crossentropy' \n",
    "model.compile(loss='binary_crossentropy',\n",
    "              optimizer=tf.optimizers.Adam(),\n",
    "              metrics=['accuracy'])"
   ]
  },
  {
   "cell_type": "code",
   "execution_count": 20,
   "metadata": {},
   "outputs": [
    {
     "name": "stdout",
     "output_type": "stream",
     "text": [
      "Epoch 1/20\n",
      "25/25 - 8s - loss: 1.0206 - accuracy: 0.4900 - val_loss: 0.6921 - val_accuracy: 0.5000 - 8s/epoch - 302ms/step\n",
      "Epoch 2/20\n",
      "25/25 - 7s - loss: 0.6934 - accuracy: 0.5200 - val_loss: 0.6933 - val_accuracy: 0.5000 - 7s/epoch - 282ms/step\n",
      "Epoch 3/20\n",
      "25/25 - 9s - loss: 0.6982 - accuracy: 0.5100 - val_loss: 0.6919 - val_accuracy: 0.5000 - 9s/epoch - 352ms/step\n",
      "Epoch 4/20\n",
      "25/25 - 6s - loss: 0.6966 - accuracy: 0.5100 - val_loss: 0.6915 - val_accuracy: 0.5000 - 6s/epoch - 245ms/step\n",
      "Epoch 5/20\n",
      "25/25 - 8s - loss: 0.6924 - accuracy: 0.4900 - val_loss: 0.6800 - val_accuracy: 0.8000 - 8s/epoch - 323ms/step\n",
      "Epoch 6/20\n",
      "25/25 - 7s - loss: 0.7020 - accuracy: 0.5200 - val_loss: 0.6591 - val_accuracy: 0.5500 - 7s/epoch - 295ms/step\n",
      "Epoch 7/20\n",
      "25/25 - 9s - loss: 0.6615 - accuracy: 0.5800 - val_loss: 0.7441 - val_accuracy: 0.5500 - 9s/epoch - 346ms/step\n",
      "Epoch 8/20\n",
      "25/25 - 6s - loss: 0.6709 - accuracy: 0.5800 - val_loss: 0.6400 - val_accuracy: 0.8000 - 6s/epoch - 238ms/step\n",
      "Epoch 9/20\n",
      "25/25 - 8s - loss: 0.6264 - accuracy: 0.7300 - val_loss: 0.7076 - val_accuracy: 0.6500 - 8s/epoch - 333ms/step\n",
      "Epoch 10/20\n",
      "25/25 - 7s - loss: 0.6808 - accuracy: 0.6100 - val_loss: 0.6571 - val_accuracy: 0.6000 - 7s/epoch - 286ms/step\n",
      "Epoch 11/20\n",
      "25/25 - 8s - loss: 0.6245 - accuracy: 0.6700 - val_loss: 0.5780 - val_accuracy: 0.7500 - 8s/epoch - 303ms/step\n",
      "Epoch 12/20\n",
      "25/25 - 8s - loss: 0.5654 - accuracy: 0.7100 - val_loss: 0.4712 - val_accuracy: 0.8000 - 8s/epoch - 308ms/step\n",
      "Epoch 13/20\n",
      "25/25 - 6s - loss: 0.6041 - accuracy: 0.6800 - val_loss: 0.6210 - val_accuracy: 0.6500 - 6s/epoch - 249ms/step\n",
      "Epoch 14/20\n",
      "25/25 - 8s - loss: 0.6205 - accuracy: 0.7100 - val_loss: 0.5349 - val_accuracy: 0.8000 - 8s/epoch - 304ms/step\n",
      "Epoch 15/20\n",
      "25/25 - 7s - loss: 0.6154 - accuracy: 0.7400 - val_loss: 0.5513 - val_accuracy: 0.8000 - 7s/epoch - 278ms/step\n",
      "Epoch 16/20\n",
      "25/25 - 8s - loss: 0.6154 - accuracy: 0.6900 - val_loss: 0.6057 - val_accuracy: 0.6500 - 8s/epoch - 312ms/step\n",
      "Epoch 17/20\n",
      "25/25 - 8s - loss: 0.5416 - accuracy: 0.7400 - val_loss: 0.5626 - val_accuracy: 0.7000 - 8s/epoch - 312ms/step\n",
      "Epoch 18/20\n",
      "25/25 - 7s - loss: 0.5054 - accuracy: 0.8300 - val_loss: 0.4752 - val_accuracy: 0.7500 - 7s/epoch - 282ms/step\n",
      "Epoch 19/20\n",
      "25/25 - 7s - loss: 0.5401 - accuracy: 0.6900 - val_loss: 0.6154 - val_accuracy: 0.6000 - 7s/epoch - 298ms/step\n",
      "Epoch 20/20\n",
      "25/25 - 8s - loss: 0.4798 - accuracy: 0.8100 - val_loss: 0.4935 - val_accuracy: 0.7500 - 8s/epoch - 307ms/step\n"
     ]
    },
    {
     "data": {
      "text/plain": [
       "<keras.callbacks.History at 0x7fe47663f6d0>"
      ]
     },
     "execution_count": 20,
     "metadata": {},
     "output_type": "execute_result"
    }
   ],
   "source": [
    "# latih model dengan model.fit \n",
    "model.fit(\n",
    "      train_generator,\n",
    "      steps_per_epoch=25,  # berapa batch yang akan dieksekusi pada setiap epoch\n",
    "      epochs=20, # tambahkan epochs jika akurasi model belum optimal\n",
    "      validation_data=validation_generator, # menampilkan akurasi pengujian data validasi\n",
    "      validation_steps=5,  # berapa batch yang akan dieksekusi pada setiap epoch\n",
    "      verbose=2)"
   ]
  },
  {
   "cell_type": "code",
   "execution_count": null,
   "metadata": {},
   "outputs": [],
   "source": []
  },
  {
   "cell_type": "code",
   "execution_count": 21,
   "metadata": {},
   "outputs": [
    {
     "ename": "ModuleNotFoundError",
     "evalue": "No module named 'google.colab'",
     "output_type": "error",
     "traceback": [
      "\u001b[0;31m---------------------------------------------------------------------------\u001b[0m",
      "\u001b[0;31mModuleNotFoundError\u001b[0m                       Traceback (most recent call last)",
      "\u001b[1;32m/home/roby/Desktop/MechineLearning/src/Latihan12_Membuat_Model Klasifikasi_Gambar.ipynb Cell 10'\u001b[0m in \u001b[0;36m<cell line: 2>\u001b[0;34m()\u001b[0m\n\u001b[1;32m      <a href='vscode-notebook-cell:/home/roby/Desktop/MechineLearning/src/Latihan12_Membuat_Model%20Klasifikasi_Gambar.ipynb#ch0000009?line=0'>1</a>\u001b[0m \u001b[39mimport\u001b[39;00m \u001b[39mnumpy\u001b[39;00m \u001b[39mas\u001b[39;00m \u001b[39mnp\u001b[39;00m\n\u001b[0;32m----> <a href='vscode-notebook-cell:/home/roby/Desktop/MechineLearning/src/Latihan12_Membuat_Model%20Klasifikasi_Gambar.ipynb#ch0000009?line=1'>2</a>\u001b[0m \u001b[39mfrom\u001b[39;00m \u001b[39mgoogle\u001b[39;00m\u001b[39m.\u001b[39;00m\u001b[39mcolab\u001b[39;00m \u001b[39mimport\u001b[39;00m files\n\u001b[1;32m      <a href='vscode-notebook-cell:/home/roby/Desktop/MechineLearning/src/Latihan12_Membuat_Model%20Klasifikasi_Gambar.ipynb#ch0000009?line=2'>3</a>\u001b[0m \u001b[39mfrom\u001b[39;00m \u001b[39mtensorflow\u001b[39;00m\u001b[39m.\u001b[39;00m\u001b[39mkeras\u001b[39;00m\u001b[39m.\u001b[39;00m\u001b[39mpreprocessing\u001b[39;00m \u001b[39mimport\u001b[39;00m image\n\u001b[1;32m      <a href='vscode-notebook-cell:/home/roby/Desktop/MechineLearning/src/Latihan12_Membuat_Model%20Klasifikasi_Gambar.ipynb#ch0000009?line=3'>4</a>\u001b[0m \u001b[39mimport\u001b[39;00m \u001b[39mmatplotlib\u001b[39;00m\u001b[39m.\u001b[39;00m\u001b[39mpyplot\u001b[39;00m \u001b[39mas\u001b[39;00m \u001b[39mplt\u001b[39;00m\n",
      "\u001b[0;31mModuleNotFoundError\u001b[0m: No module named 'google.colab'"
     ]
    }
   ],
   "source": [
    "import numpy as np\n",
    "from google.colab import files\n",
    "from tensorflow.keras.preprocessing import image\n",
    "import matplotlib.pyplot as plt\n",
    "import matplotlib.image as mpimg\n",
    "%matplotlib inline\n",
    " \n",
    "uploaded = files.upload()\n",
    " \n",
    "for fn in uploaded.keys():\n",
    " \n",
    "  # predicting images\n",
    "  path = fn\n",
    "  img = image.load_img(path, target_size=(150,150))\n",
    " \n",
    "  imgplot = plt.imshow(img)\n",
    "  x = image.img_to_array(img)\n",
    "  x = np.expand_dims(x, axis=0)\n",
    "  images = np.vstack([x])\n",
    " \n",
    "  classes = model.predict(images, batch_size=10)  \n",
    "  print(fn)\n",
    "  if classes==0:\n",
    "   print('messy')\n",
    "  else:\n",
    "   print('clean')"
   ]
  }
 ],
 "metadata": {
  "interpreter": {
   "hash": "2c20d067aa69818ed64400a7a6fd9e19ebebdb7ea32480fd544ecca3f051c32e"
  },
  "kernelspec": {
   "display_name": "Python 3.8.10 ('env': venv)",
   "language": "python",
   "name": "python3"
  },
  "language_info": {
   "codemirror_mode": {
    "name": "ipython",
    "version": 3
   },
   "file_extension": ".py",
   "mimetype": "text/x-python",
   "name": "python",
   "nbconvert_exporter": "python",
   "pygments_lexer": "ipython3",
   "version": "3.8.10"
  },
  "orig_nbformat": 4
 },
 "nbformat": 4,
 "nbformat_minor": 2
}
